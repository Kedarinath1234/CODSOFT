{
 "cells": [
  {
   "cell_type": "code",
   "execution_count": null,
   "id": "411d42c2",
   "metadata": {},
   "outputs": [
    {
     "name": "stdout",
     "output_type": "stream",
     "text": [
      "Enter your wished_lenth for password between (8 to 12):  5\n",
      "\n",
      "Generated Password:  Kw`dlw~1lL}r\n",
      "\n",
      "Enter your wished_lenth for password between (8 to 12):  9\n",
      "\n",
      "Generated Password:  -%k{S&4nPmP(\n",
      "\n",
      "Enter your wished_lenth for password between (8 to 12):  12\n",
      "\n",
      "Generated Password:  8JO?>i$i+B#L\n",
      "\n"
     ]
    }
   ],
   "source": [
    "# Import random and string modules in python\n",
    "import random\n",
    "import string\n",
    "\n",
    "def generate_password(length=12, use_uppercase=True, use_digits=True, use_special_characters=True):\n",
    "    \n",
    "    # Here I am defining all the characters\n",
    "    lowercase_characters = string.ascii_lowercase\n",
    "    uppercase_characters = string.ascii_uppercase if use_uppercase else ''\n",
    "    digit_characters = string.digits if use_digits else ''\n",
    "    special_characters = string.punctuation if use_special_characters else ''\n",
    "\n",
    "    # Here I am Combining all the charaters sets according to the user preferences \n",
    "    all_characters = lowercase_characters + uppercase_characters + digit_characters + special_characters\n",
    "\n",
    "    # Here I am taking Maximum Character lenth 12 to make a secure password which shouldn't be easily cracked\n",
    "    length = max(length, 12)\n",
    "\n",
    "    # Here random module will select random characters\n",
    "    password = ''.join(random.choice(all_characters) for _ in range(length))\n",
    "\n",
    "    return password\n",
    "while True:\n",
    "# Prompt the user for password length\n",
    "    wished_length = int(input(\"Enter your wished_lenth for password between (8 to 12):  \"))\n",
    "    \n",
    "    # Here I am making this password generator in a iterative way\n",
    "    if wished_length == 0:\n",
    "        break\n",
    "# Here Generating the password and displaying the password\n",
    "# Here I am using length function to check the length of wished length\n",
    "    password = generate_password(length=wished_length)\n",
    "    print(\"\\nGenerated Password: \", password)\n",
    "    print()\n"
   ]
  },
  {
   "cell_type": "code",
   "execution_count": null,
   "id": "c72c76f5",
   "metadata": {},
   "outputs": [],
   "source": []
  },
  {
   "cell_type": "code",
   "execution_count": null,
   "id": "0129af09",
   "metadata": {},
   "outputs": [],
   "source": []
  }
 ],
 "metadata": {
  "kernelspec": {
   "display_name": "Python 3 (ipykernel)",
   "language": "python",
   "name": "python3"
  },
  "language_info": {
   "codemirror_mode": {
    "name": "ipython",
    "version": 3
   },
   "file_extension": ".py",
   "mimetype": "text/x-python",
   "name": "python",
   "nbconvert_exporter": "python",
   "pygments_lexer": "ipython3",
   "version": "3.11.5"
  }
 },
 "nbformat": 4,
 "nbformat_minor": 5
}
